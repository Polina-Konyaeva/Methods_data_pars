{
 "cells": [
  {
   "cell_type": "code",
   "execution_count": 1,
   "id": "a865b329",
   "metadata": {},
   "outputs": [],
   "source": [
    "#!pip install requests"
   ]
  },
  {
   "cell_type": "code",
   "execution_count": 13,
   "id": "d2b7e3a6",
   "metadata": {},
   "outputs": [],
   "source": [
    "import requests\n",
    "import json\n",
    "from pprint import pprint"
   ]
  },
  {
   "cell_type": "code",
   "execution_count": 14,
   "id": "2583c62b",
   "metadata": {},
   "outputs": [],
   "source": [
    "user = 'Polina-Konyaeva'\n",
    "url = 'https://api.github.com/users/'+user+'/repos'"
   ]
  },
  {
   "cell_type": "code",
   "execution_count": 15,
   "id": "1a66571c",
   "metadata": {},
   "outputs": [
    {
     "name": "stdout",
     "output_type": "stream",
     "text": [
      "200\n"
     ]
    }
   ],
   "source": [
    "response = requests.get(url)\n",
    "print(response.status_code)\n"
   ]
  },
  {
   "cell_type": "code",
   "execution_count": 16,
   "id": "4c2d5012",
   "metadata": {},
   "outputs": [
    {
     "name": "stdout",
     "output_type": "stream",
     "text": [
      "[{'id': 424179529, 'node_id': 'R_kgDOGUh3SQ', 'name': 'GB_python', 'full_name': 'Polina-Konyaeva/GB_python', 'private': False, 'owner': {'login': 'Polina-Konyaeva', 'id': 93650475, 'node_id': 'U_kgDOBZT-Kw', 'avatar_url': 'https://avatars.githubusercontent.com/u/93650475?v=4', 'gravatar_id': '', 'url': 'https://api.github.com/users/Polina-Konyaeva', 'html_url': 'https://github.com/Polina-Konyaeva', 'followers_url': 'https://api.github.com/users/Polina-Konyaeva/followers', 'following_url': 'https://api.github.com/users/Polina-Konyaeva/following{/other_user}', 'gists_url': 'https://api.github.com/users/Polina-Konyaeva/gists{/gist_id}', 'starred_url': 'https://api.github.com/users/Polina-Konyaeva/starred{/owner}{/repo}', 'subscriptions_url': 'https://api.github.com/users/Polina-Konyaeva/subscriptions', 'organizations_url': 'https://api.github.com/users/Polina-Konyaeva/orgs', 'repos_url': 'https://api.github.com/users/Polina-Konyaeva/repos', 'events_url': 'https://api.github.com/users/Polina-Konyaeva/events{/privacy}', 'received_events_url': 'https://api.github.com/users/Polina-Konyaeva/received_events', 'type': 'User', 'site_admin': False}, 'html_url': 'https://github.com/Polina-Konyaeva/GB_python', 'description': None, 'fork': False, 'url': 'https://api.github.com/repos/Polina-Konyaeva/GB_python', 'forks_url': 'https://api.github.com/repos/Polina-Konyaeva/GB_python/forks', 'keys_url': 'https://api.github.com/repos/Polina-Konyaeva/GB_python/keys{/key_id}', 'collaborators_url': 'https://api.github.com/repos/Polina-Konyaeva/GB_python/collaborators{/collaborator}', 'teams_url': 'https://api.github.com/repos/Polina-Konyaeva/GB_python/teams', 'hooks_url': 'https://api.github.com/repos/Polina-Konyaeva/GB_python/hooks', 'issue_events_url': 'https://api.github.com/repos/Polina-Konyaeva/GB_python/issues/events{/number}', 'events_url': 'https://api.github.com/repos/Polina-Konyaeva/GB_python/events', 'assignees_url': 'https://api.github.com/repos/Polina-Konyaeva/GB_python/assignees{/user}', 'branches_url': 'https://api.github.com/repos/Polina-Konyaeva/GB_python/branches{/branch}', 'tags_url': 'https://api.github.com/repos/Polina-Konyaeva/GB_python/tags', 'blobs_url': 'https://api.github.com/repos/Polina-Konyaeva/GB_python/git/blobs{/sha}', 'git_tags_url': 'https://api.github.com/repos/Polina-Konyaeva/GB_python/git/tags{/sha}', 'git_refs_url': 'https://api.github.com/repos/Polina-Konyaeva/GB_python/git/refs{/sha}', 'trees_url': 'https://api.github.com/repos/Polina-Konyaeva/GB_python/git/trees{/sha}', 'statuses_url': 'https://api.github.com/repos/Polina-Konyaeva/GB_python/statuses/{sha}', 'languages_url': 'https://api.github.com/repos/Polina-Konyaeva/GB_python/languages', 'stargazers_url': 'https://api.github.com/repos/Polina-Konyaeva/GB_python/stargazers', 'contributors_url': 'https://api.github.com/repos/Polina-Konyaeva/GB_python/contributors', 'subscribers_url': 'https://api.github.com/repos/Polina-Konyaeva/GB_python/subscribers', 'subscription_url': 'https://api.github.com/repos/Polina-Konyaeva/GB_python/subscription', 'commits_url': 'https://api.github.com/repos/Polina-Konyaeva/GB_python/commits{/sha}', 'git_commits_url': 'https://api.github.com/repos/Polina-Konyaeva/GB_python/git/commits{/sha}', 'comments_url': 'https://api.github.com/repos/Polina-Konyaeva/GB_python/comments{/number}', 'issue_comment_url': 'https://api.github.com/repos/Polina-Konyaeva/GB_python/issues/comments{/number}', 'contents_url': 'https://api.github.com/repos/Polina-Konyaeva/GB_python/contents/{+path}', 'compare_url': 'https://api.github.com/repos/Polina-Konyaeva/GB_python/compare/{base}...{head}', 'merges_url': 'https://api.github.com/repos/Polina-Konyaeva/GB_python/merges', 'archive_url': 'https://api.github.com/repos/Polina-Konyaeva/GB_python/{archive_format}{/ref}', 'downloads_url': 'https://api.github.com/repos/Polina-Konyaeva/GB_python/downloads', 'issues_url': 'https://api.github.com/repos/Polina-Konyaeva/GB_python/issues{/number}', 'pulls_url': 'https://api.github.com/repos/Polina-Konyaeva/GB_python/pulls{/number}', 'milestones_url': 'https://api.github.com/repos/Polina-Konyaeva/GB_python/milestones{/number}', 'notifications_url': 'https://api.github.com/repos/Polina-Konyaeva/GB_python/notifications{?since,all,participating}', 'labels_url': 'https://api.github.com/repos/Polina-Konyaeva/GB_python/labels{/name}', 'releases_url': 'https://api.github.com/repos/Polina-Konyaeva/GB_python/releases{/id}', 'deployments_url': 'https://api.github.com/repos/Polina-Konyaeva/GB_python/deployments', 'created_at': '2021-11-03T10:27:51Z', 'updated_at': '2021-11-03T10:27:54Z', 'pushed_at': '2021-12-09T12:02:05Z', 'git_url': 'git://github.com/Polina-Konyaeva/GB_python.git', 'ssh_url': 'git@github.com:Polina-Konyaeva/GB_python.git', 'clone_url': 'https://github.com/Polina-Konyaeva/GB_python.git', 'svn_url': 'https://github.com/Polina-Konyaeva/GB_python', 'homepage': None, 'size': 19, 'stargazers_count': 0, 'watchers_count': 0, 'language': None, 'has_issues': True, 'has_projects': True, 'has_downloads': True, 'has_wiki': True, 'has_pages': False, 'forks_count': 0, 'mirror_url': None, 'archived': False, 'disabled': False, 'open_issues_count': 8, 'license': None, 'allow_forking': True, 'is_template': False, 'web_commit_signoff_required': False, 'topics': [], 'visibility': 'public', 'forks': 0, 'open_issues': 8, 'watchers': 0, 'default_branch': 'main'}, {'id': 487496643, 'node_id': 'R_kgDOHQ6bww', 'name': 'Python-DS', 'full_name': 'Polina-Konyaeva/Python-DS', 'private': False, 'owner': {'login': 'Polina-Konyaeva', 'id': 93650475, 'node_id': 'U_kgDOBZT-Kw', 'avatar_url': 'https://avatars.githubusercontent.com/u/93650475?v=4', 'gravatar_id': '', 'url': 'https://api.github.com/users/Polina-Konyaeva', 'html_url': 'https://github.com/Polina-Konyaeva', 'followers_url': 'https://api.github.com/users/Polina-Konyaeva/followers', 'following_url': 'https://api.github.com/users/Polina-Konyaeva/following{/other_user}', 'gists_url': 'https://api.github.com/users/Polina-Konyaeva/gists{/gist_id}', 'starred_url': 'https://api.github.com/users/Polina-Konyaeva/starred{/owner}{/repo}', 'subscriptions_url': 'https://api.github.com/users/Polina-Konyaeva/subscriptions', 'organizations_url': 'https://api.github.com/users/Polina-Konyaeva/orgs', 'repos_url': 'https://api.github.com/users/Polina-Konyaeva/repos', 'events_url': 'https://api.github.com/users/Polina-Konyaeva/events{/privacy}', 'received_events_url': 'https://api.github.com/users/Polina-Konyaeva/received_events', 'type': 'User', 'site_admin': False}, 'html_url': 'https://github.com/Polina-Konyaeva/Python-DS', 'description': None, 'fork': False, 'url': 'https://api.github.com/repos/Polina-Konyaeva/Python-DS', 'forks_url': 'https://api.github.com/repos/Polina-Konyaeva/Python-DS/forks', 'keys_url': 'https://api.github.com/repos/Polina-Konyaeva/Python-DS/keys{/key_id}', 'collaborators_url': 'https://api.github.com/repos/Polina-Konyaeva/Python-DS/collaborators{/collaborator}', 'teams_url': 'https://api.github.com/repos/Polina-Konyaeva/Python-DS/teams', 'hooks_url': 'https://api.github.com/repos/Polina-Konyaeva/Python-DS/hooks', 'issue_events_url': 'https://api.github.com/repos/Polina-Konyaeva/Python-DS/issues/events{/number}', 'events_url': 'https://api.github.com/repos/Polina-Konyaeva/Python-DS/events', 'assignees_url': 'https://api.github.com/repos/Polina-Konyaeva/Python-DS/assignees{/user}', 'branches_url': 'https://api.github.com/repos/Polina-Konyaeva/Python-DS/branches{/branch}', 'tags_url': 'https://api.github.com/repos/Polina-Konyaeva/Python-DS/tags', 'blobs_url': 'https://api.github.com/repos/Polina-Konyaeva/Python-DS/git/blobs{/sha}', 'git_tags_url': 'https://api.github.com/repos/Polina-Konyaeva/Python-DS/git/tags{/sha}', 'git_refs_url': 'https://api.github.com/repos/Polina-Konyaeva/Python-DS/git/refs{/sha}', 'trees_url': 'https://api.github.com/repos/Polina-Konyaeva/Python-DS/git/trees{/sha}', 'statuses_url': 'https://api.github.com/repos/Polina-Konyaeva/Python-DS/statuses/{sha}', 'languages_url': 'https://api.github.com/repos/Polina-Konyaeva/Python-DS/languages', 'stargazers_url': 'https://api.github.com/repos/Polina-Konyaeva/Python-DS/stargazers', 'contributors_url': 'https://api.github.com/repos/Polina-Konyaeva/Python-DS/contributors', 'subscribers_url': 'https://api.github.com/repos/Polina-Konyaeva/Python-DS/subscribers', 'subscription_url': 'https://api.github.com/repos/Polina-Konyaeva/Python-DS/subscription', 'commits_url': 'https://api.github.com/repos/Polina-Konyaeva/Python-DS/commits{/sha}', 'git_commits_url': 'https://api.github.com/repos/Polina-Konyaeva/Python-DS/git/commits{/sha}', 'comments_url': 'https://api.github.com/repos/Polina-Konyaeva/Python-DS/comments{/number}', 'issue_comment_url': 'https://api.github.com/repos/Polina-Konyaeva/Python-DS/issues/comments{/number}', 'contents_url': 'https://api.github.com/repos/Polina-Konyaeva/Python-DS/contents/{+path}', 'compare_url': 'https://api.github.com/repos/Polina-Konyaeva/Python-DS/compare/{base}...{head}', 'merges_url': 'https://api.github.com/repos/Polina-Konyaeva/Python-DS/merges', 'archive_url': 'https://api.github.com/repos/Polina-Konyaeva/Python-DS/{archive_format}{/ref}', 'downloads_url': 'https://api.github.com/repos/Polina-Konyaeva/Python-DS/downloads', 'issues_url': 'https://api.github.com/repos/Polina-Konyaeva/Python-DS/issues{/number}', 'pulls_url': 'https://api.github.com/repos/Polina-Konyaeva/Python-DS/pulls{/number}', 'milestones_url': 'https://api.github.com/repos/Polina-Konyaeva/Python-DS/milestones{/number}', 'notifications_url': 'https://api.github.com/repos/Polina-Konyaeva/Python-DS/notifications{?since,all,participating}', 'labels_url': 'https://api.github.com/repos/Polina-Konyaeva/Python-DS/labels{/name}', 'releases_url': 'https://api.github.com/repos/Polina-Konyaeva/Python-DS/releases{/id}', 'deployments_url': 'https://api.github.com/repos/Polina-Konyaeva/Python-DS/deployments', 'created_at': '2022-05-01T09:34:11Z', 'updated_at': '2022-06-06T14:17:26Z', 'pushed_at': '2022-06-15T07:48:51Z', 'git_url': 'git://github.com/Polina-Konyaeva/Python-DS.git', 'ssh_url': 'git@github.com:Polina-Konyaeva/Python-DS.git', 'clone_url': 'https://github.com/Polina-Konyaeva/Python-DS.git', 'svn_url': 'https://github.com/Polina-Konyaeva/Python-DS', 'homepage': None, 'size': 2854, 'stargazers_count': 0, 'watchers_count': 0, 'language': None, 'has_issues': True, 'has_projects': True, 'has_downloads': True, 'has_wiki': True, 'has_pages': False, 'forks_count': 0, 'mirror_url': None, 'archived': False, 'disabled': False, 'open_issues_count': 6, 'license': None, 'allow_forking': True, 'is_template': False, 'web_commit_signoff_required': False, 'topics': [], 'visibility': 'public', 'forks': 0, 'open_issues': 6, 'watchers': 0, 'default_branch': 'main'}, {'id': 525059554, 'node_id': 'R_kgDOH0vF4g', 'name': 'SQL_project', 'full_name': 'Polina-Konyaeva/SQL_project', 'private': False, 'owner': {'login': 'Polina-Konyaeva', 'id': 93650475, 'node_id': 'U_kgDOBZT-Kw', 'avatar_url': 'https://avatars.githubusercontent.com/u/93650475?v=4', 'gravatar_id': '', 'url': 'https://api.github.com/users/Polina-Konyaeva', 'html_url': 'https://github.com/Polina-Konyaeva', 'followers_url': 'https://api.github.com/users/Polina-Konyaeva/followers', 'following_url': 'https://api.github.com/users/Polina-Konyaeva/following{/other_user}', 'gists_url': 'https://api.github.com/users/Polina-Konyaeva/gists{/gist_id}', 'starred_url': 'https://api.github.com/users/Polina-Konyaeva/starred{/owner}{/repo}', 'subscriptions_url': 'https://api.github.com/users/Polina-Konyaeva/subscriptions', 'organizations_url': 'https://api.github.com/users/Polina-Konyaeva/orgs', 'repos_url': 'https://api.github.com/users/Polina-Konyaeva/repos', 'events_url': 'https://api.github.com/users/Polina-Konyaeva/events{/privacy}', 'received_events_url': 'https://api.github.com/users/Polina-Konyaeva/received_events', 'type': 'User', 'site_admin': False}, 'html_url': 'https://github.com/Polina-Konyaeva/SQL_project', 'description': None, 'fork': False, 'url': 'https://api.github.com/repos/Polina-Konyaeva/SQL_project', 'forks_url': 'https://api.github.com/repos/Polina-Konyaeva/SQL_project/forks', 'keys_url': 'https://api.github.com/repos/Polina-Konyaeva/SQL_project/keys{/key_id}', 'collaborators_url': 'https://api.github.com/repos/Polina-Konyaeva/SQL_project/collaborators{/collaborator}', 'teams_url': 'https://api.github.com/repos/Polina-Konyaeva/SQL_project/teams', 'hooks_url': 'https://api.github.com/repos/Polina-Konyaeva/SQL_project/hooks', 'issue_events_url': 'https://api.github.com/repos/Polina-Konyaeva/SQL_project/issues/events{/number}', 'events_url': 'https://api.github.com/repos/Polina-Konyaeva/SQL_project/events', 'assignees_url': 'https://api.github.com/repos/Polina-Konyaeva/SQL_project/assignees{/user}', 'branches_url': 'https://api.github.com/repos/Polina-Konyaeva/SQL_project/branches{/branch}', 'tags_url': 'https://api.github.com/repos/Polina-Konyaeva/SQL_project/tags', 'blobs_url': 'https://api.github.com/repos/Polina-Konyaeva/SQL_project/git/blobs{/sha}', 'git_tags_url': 'https://api.github.com/repos/Polina-Konyaeva/SQL_project/git/tags{/sha}', 'git_refs_url': 'https://api.github.com/repos/Polina-Konyaeva/SQL_project/git/refs{/sha}', 'trees_url': 'https://api.github.com/repos/Polina-Konyaeva/SQL_project/git/trees{/sha}', 'statuses_url': 'https://api.github.com/repos/Polina-Konyaeva/SQL_project/statuses/{sha}', 'languages_url': 'https://api.github.com/repos/Polina-Konyaeva/SQL_project/languages', 'stargazers_url': 'https://api.github.com/repos/Polina-Konyaeva/SQL_project/stargazers', 'contributors_url': 'https://api.github.com/repos/Polina-Konyaeva/SQL_project/contributors', 'subscribers_url': 'https://api.github.com/repos/Polina-Konyaeva/SQL_project/subscribers', 'subscription_url': 'https://api.github.com/repos/Polina-Konyaeva/SQL_project/subscription', 'commits_url': 'https://api.github.com/repos/Polina-Konyaeva/SQL_project/commits{/sha}', 'git_commits_url': 'https://api.github.com/repos/Polina-Konyaeva/SQL_project/git/commits{/sha}', 'comments_url': 'https://api.github.com/repos/Polina-Konyaeva/SQL_project/comments{/number}', 'issue_comment_url': 'https://api.github.com/repos/Polina-Konyaeva/SQL_project/issues/comments{/number}', 'contents_url': 'https://api.github.com/repos/Polina-Konyaeva/SQL_project/contents/{+path}', 'compare_url': 'https://api.github.com/repos/Polina-Konyaeva/SQL_project/compare/{base}...{head}', 'merges_url': 'https://api.github.com/repos/Polina-Konyaeva/SQL_project/merges', 'archive_url': 'https://api.github.com/repos/Polina-Konyaeva/SQL_project/{archive_format}{/ref}', 'downloads_url': 'https://api.github.com/repos/Polina-Konyaeva/SQL_project/downloads', 'issues_url': 'https://api.github.com/repos/Polina-Konyaeva/SQL_project/issues{/number}', 'pulls_url': 'https://api.github.com/repos/Polina-Konyaeva/SQL_project/pulls{/number}', 'milestones_url': 'https://api.github.com/repos/Polina-Konyaeva/SQL_project/milestones{/number}', 'notifications_url': 'https://api.github.com/repos/Polina-Konyaeva/SQL_project/notifications{?since,all,participating}', 'labels_url': 'https://api.github.com/repos/Polina-Konyaeva/SQL_project/labels{/name}', 'releases_url': 'https://api.github.com/repos/Polina-Konyaeva/SQL_project/releases{/id}', 'deployments_url': 'https://api.github.com/repos/Polina-Konyaeva/SQL_project/deployments', 'created_at': '2022-08-15T16:29:52Z', 'updated_at': '2022-08-15T16:29:52Z', 'pushed_at': '2022-08-15T16:50:39Z', 'git_url': 'git://github.com/Polina-Konyaeva/SQL_project.git', 'ssh_url': 'git@github.com:Polina-Konyaeva/SQL_project.git', 'clone_url': 'https://github.com/Polina-Konyaeva/SQL_project.git', 'svn_url': 'https://github.com/Polina-Konyaeva/SQL_project', 'homepage': None, 'size': 43, 'stargazers_count': 0, 'watchers_count': 0, 'language': None, 'has_issues': True, 'has_projects': True, 'has_downloads': True, 'has_wiki': True, 'has_pages': False, 'forks_count': 0, 'mirror_url': None, 'archived': False, 'disabled': False, 'open_issues_count': 0, 'license': None, 'allow_forking': True, 'is_template': False, 'web_commit_signoff_required': False, 'topics': [], 'visibility': 'public', 'forks': 0, 'open_issues': 0, 'watchers': 0, 'default_branch': 'main'}]\n"
     ]
    }
   ],
   "source": [
    "resp = response.json()\n",
    "print(resp)"
   ]
  },
  {
   "cell_type": "code",
   "execution_count": 17,
   "id": "8180a33c",
   "metadata": {},
   "outputs": [
    {
     "data": {
      "text/plain": [
       "['GB_python', 'Python-DS', 'SQL_project']"
      ]
     },
     "execution_count": 17,
     "metadata": {},
     "output_type": "execute_result"
    }
   ],
   "source": [
    "repositor = [item['name'] for item in resp]\n",
    "repositor"
   ]
  },
  {
   "cell_type": "code",
   "execution_count": 18,
   "id": "45ee4d83",
   "metadata": {},
   "outputs": [],
   "source": [
    "with open('Les1_t1.json','w') as f:\n",
    "    json.dump(repositor, f)"
   ]
  },
  {
   "cell_type": "code",
   "execution_count": null,
   "id": "3690e44a",
   "metadata": {},
   "outputs": [],
   "source": []
  }
 ],
 "metadata": {
  "kernelspec": {
   "display_name": "Python 3",
   "language": "python",
   "name": "python3"
  },
  "language_info": {
   "codemirror_mode": {
    "name": "ipython",
    "version": 3
   },
   "file_extension": ".py",
   "mimetype": "text/x-python",
   "name": "python",
   "nbconvert_exporter": "python",
   "pygments_lexer": "ipython3",
   "version": "3.8.8"
  }
 },
 "nbformat": 4,
 "nbformat_minor": 5
}
